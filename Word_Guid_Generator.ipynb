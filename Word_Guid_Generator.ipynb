{
 "cells": [
  {
   "cell_type": "code",
   "execution_count": 1,
   "metadata": {},
   "outputs": [],
   "source": [
    "import pandas as pd\n",
    "import random\n"
   ]
  },
  {
   "cell_type": "code",
   "execution_count": 2,
   "metadata": {},
   "outputs": [],
   "source": [
    "most_common_words = 'https://raw.githubusercontent.com/powerlanguage/word-lists/master/1000-most-common-words.txt';\n",
    "seven_letter_words = 'https://raw.githubusercontent.com/powerlanguage/word-lists/master/common-7-letter-words.txt';\n",
    "common_df = pd.read_csv(most_common_words, header=None)\n",
    "seven_df = pd.read_csv(seven_letter_words, header=None)"
   ]
  },
  {
   "cell_type": "code",
   "execution_count": 3,
   "metadata": {},
   "outputs": [],
   "source": [
    "def filter_df(frame):\n",
    "    frame = frame[frame[0].str.contains('^[a-zA-Z]*$', regex= True, na=False)]\n",
    "\n",
    "    def filter_row(row): \n",
    "        lower_case = row.lower()\n",
    "\n",
    "        if all(ch == lower_case[0] for ch in lower_case):\n",
    "            return False\n",
    "\n",
    "        if len(lower_case) < 3 and len(lower_case) > 8:\n",
    "            return False\n",
    "\n",
    "\n",
    "        return True\n",
    "\n",
    "\n",
    "    return frame[frame[0].apply(filter_row)]\n",
    "\n",
    "\n",
    "common_df = filter_df(common_df)\n",
    "seven_df = filter_df(seven_df)"
   ]
  },
  {
   "cell_type": "code",
   "execution_count": 4,
   "metadata": {},
   "outputs": [],
   "source": [
    "def format_word(word):\n",
    "    return word.lower().capitalize()\n",
    "\n",
    "def generate_identifier(common_words, larger_words):\n",
    "    common_things = random.choices(list(common_words[0]), k=2)\n",
    "    larger_things = random.choices(list(larger_words[0]), k=3)\n",
    "    \n",
    "    words = [\n",
    "        larger_things[0],\n",
    "        common_things[0],\n",
    "        larger_things[1],\n",
    "        common_things[1],\n",
    "        larger_things[2]\n",
    "    ]\n",
    "    \n",
    "    return ''.join(map(format_word, words))\n",
    "    "
   ]
  },
  {
   "cell_type": "code",
   "execution_count": 37,
   "metadata": {},
   "outputs": [
    {
     "data": {
      "text/plain": [
       "['PreyingThatSucceedMotherUranium',\n",
       " 'CaptainJoyIntroitTopChapter',\n",
       " 'EducateAreForwardLeaveSection',\n",
       " 'UpswellVillageCheaterCheckProudly',\n",
       " 'EnglishSongAbolishKeptForgive',\n",
       " 'TextileTailPlasticJoinReality']"
      ]
     },
     "execution_count": 37,
     "metadata": {},
     "output_type": "execute_result"
    }
   ],
   "source": [
    "[\n",
    "    generate_identifier(common_df, seven_df),\n",
    "    generate_identifier(common_df, seven_df),\n",
    "    generate_identifier(common_df, seven_df),\n",
    "    generate_identifier(common_df, seven_df),\n",
    "    generate_identifier(common_df, seven_df),\n",
    "    generate_identifier(common_df, seven_df)\n",
    "]"
   ]
  },
  {
   "cell_type": "code",
   "execution_count": 31,
   "metadata": {},
   "outputs": [
    {
     "data": {
      "text/plain": [
       "'2_398_670_394_753_024'"
      ]
     },
     "execution_count": 31,
     "metadata": {},
     "output_type": "execute_result"
    }
   ],
   "source": [
    "# Amount of possibilites.\n",
    "f'{len(seven_df.index)*len(common_df.index)*len(seven_df.index)*len(common_df.index)*len(seven_df.index):_}'"
   ]
  },
  {
   "cell_type": "code",
   "execution_count": 34,
   "metadata": {},
   "outputs": [
    {
     "data": {
      "text/plain": [
       "1344"
      ]
     },
     "execution_count": 34,
     "metadata": {},
     "output_type": "execute_result"
    }
   ],
   "source": [
    "# 7 letter word count\n",
    "len(seven_df.index)"
   ]
  },
  {
   "cell_type": "code",
   "execution_count": 35,
   "metadata": {},
   "outputs": [
    {
     "data": {
      "text/plain": [
       "994"
      ]
     },
     "execution_count": 35,
     "metadata": {},
     "output_type": "execute_result"
    }
   ],
   "source": [
    "# Common word count\n",
    "len(common_df.index)"
   ]
  },
  {
   "cell_type": "code",
   "execution_count": null,
   "metadata": {},
   "outputs": [],
   "source": []
  }
 ],
 "metadata": {
  "kernelspec": {
   "display_name": "Python 3",
   "language": "python",
   "name": "python3"
  },
  "language_info": {
   "codemirror_mode": {
    "name": "ipython",
    "version": 3
   },
   "file_extension": ".py",
   "mimetype": "text/x-python",
   "name": "python",
   "nbconvert_exporter": "python",
   "pygments_lexer": "ipython3",
   "version": "3.7.6"
  }
 },
 "nbformat": 4,
 "nbformat_minor": 4
}
