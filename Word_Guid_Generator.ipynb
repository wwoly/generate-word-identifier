{
 "cells": [
  {
   "cell_type": "code",
   "execution_count": 59,
   "metadata": {},
   "outputs": [],
   "source": [
    "import pandas as pd\n",
    "import random\n"
   ]
  },
  {
   "cell_type": "code",
   "execution_count": 56,
   "metadata": {},
   "outputs": [],
   "source": [
    "most_common_words = 'https://raw.githubusercontent.com/powerlanguage/word-lists/master/1000-most-common-words.txt';\n",
    "seven_letter_words = 'https://raw.githubusercontent.com/powerlanguage/word-lists/master/common-7-letter-words.txt';\n",
    "common_df = pd.read_csv(most_common_words, header=None)\n",
    "seven_df = pd.read_csv(seven_letter_words, header=None)"
   ]
  },
  {
   "cell_type": "code",
   "execution_count": 75,
   "metadata": {},
   "outputs": [],
   "source": [
    "def filter_df(frame):\n",
    "    frame = frame[frame[0].str.contains('^[a-zA-Z]*$', regex= True, na=False)]\n",
    "\n",
    "    def filter_row(row): \n",
    "        lower_case = row.lower()\n",
    "\n",
    "        if all(ch == lower_case[0] for ch in lower_case):\n",
    "            return False\n",
    "\n",
    "        if len(lower_case) < 3 and len(lower_case) > 8:\n",
    "            return False\n",
    "\n",
    "\n",
    "        return True\n",
    "\n",
    "\n",
    "    return frame[frame[0].apply(filter_row)]\n",
    "\n",
    "\n",
    "common_df = filter_df(common_df)\n",
    "seven_df = filter_df(seven_df)"
   ]
  },
  {
   "cell_type": "code",
   "execution_count": 76,
   "metadata": {},
   "outputs": [],
   "source": [
    "def format_word(word):\n",
    "    return word.lower().capitalize()\n",
    "\n",
    "def generate_identifier(common_words, larger_words):\n",
    "    common_things = random.choices(list(common_words[0]), k=2)\n",
    "    larger_things = random.choices(list(larger_words[0]), k=3)\n",
    "    \n",
    "    words = [\n",
    "        larger_things[0],\n",
    "        common_things[0],\n",
    "        larger_things[1],\n",
    "        common_things[1],\n",
    "        larger_things[2]\n",
    "    ]\n",
    "    \n",
    "    return ''.join(map(format_word, words))\n",
    "    "
   ]
  },
  {
   "cell_type": "code",
   "execution_count": 77,
   "metadata": {},
   "outputs": [
    {
     "data": {
      "text/plain": [
       "['BeneathGameCuplikeChanceForeign',\n",
       " 'CutletsHugeOrganicGasDefence',\n",
       " 'PajamasSimilarAgelessJustAnthill',\n",
       " 'InsularInCutleryStarRaccoon',\n",
       " 'PerformSurfaceSocietySawNothing',\n",
       " 'FreewaySilentDormantSuddenEducate']"
      ]
     },
     "execution_count": 77,
     "metadata": {},
     "output_type": "execute_result"
    }
   ],
   "source": [
    "[\n",
    "    generate_identifier(common_df, seven_df),\n",
    "    generate_identifier(common_df, seven_df),\n",
    "    generate_identifier(common_df, seven_df),\n",
    "    generate_identifier(common_df, seven_df),\n",
    "    generate_identifier(common_df, seven_df),\n",
    "    generate_identifier(common_df, seven_df)\n",
    "]"
   ]
  },
  {
   "cell_type": "code",
   "execution_count": 78,
   "metadata": {},
   "outputs": [
    {
     "data": {
      "text/plain": [
       "2398670394753024"
      ]
     },
     "execution_count": 78,
     "metadata": {},
     "output_type": "execute_result"
    }
   ],
   "source": [
    "len(seven_df.index)*len(common_df.index)*len(seven_df.index)*len(common_df.index)*len(seven_df.index)"
   ]
  },
  {
   "cell_type": "code",
   "execution_count": 72,
   "metadata": {},
   "outputs": [
    {
     "data": {
      "text/plain": [
       "RangeIndex(start=0, stop=1371, step=1)"
      ]
     },
     "execution_count": 72,
     "metadata": {},
     "output_type": "execute_result"
    }
   ],
   "source": [
    "2 398 670 394 753 024"
   ]
  },
  {
   "cell_type": "code",
   "execution_count": 81,
   "metadata": {},
   "outputs": [
    {
     "data": {
      "text/plain": [
       "994"
      ]
     },
     "execution_count": 81,
     "metadata": {},
     "output_type": "execute_result"
    }
   ],
   "source": [
    "len(common_df.index)"
   ]
  },
  {
   "cell_type": "code",
   "execution_count": null,
   "metadata": {},
   "outputs": [],
   "source": []
  }
 ],
 "metadata": {
  "kernelspec": {
   "display_name": "Python 3",
   "language": "python",
   "name": "python3"
  },
  "language_info": {
   "codemirror_mode": {
    "name": "ipython",
    "version": 3
   },
   "file_extension": ".py",
   "mimetype": "text/x-python",
   "name": "python",
   "nbconvert_exporter": "python",
   "pygments_lexer": "ipython3",
   "version": "3.7.6"
  }
 },
 "nbformat": 4,
 "nbformat_minor": 4
}
